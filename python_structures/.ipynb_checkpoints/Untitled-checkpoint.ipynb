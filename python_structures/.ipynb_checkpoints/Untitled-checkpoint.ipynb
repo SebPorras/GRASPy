{
 "cells": [
  {
   "cell_type": "code",
   "execution_count": 1,
   "id": "7a5275be",
   "metadata": {},
   "outputs": [
    {
     "ename": "FileNotFoundError",
     "evalue": "[Errno 2] No such file or directory: './test_data/big_test_data/GRASPTutorial_Final.nwk'",
     "output_type": "error",
     "traceback": [
      "\u001b[0;31m---------------------------------------------------------------------------\u001b[0m",
      "\u001b[0;31mFileNotFoundError\u001b[0m                         Traceback (most recent call last)",
      "Input \u001b[0;32mIn [1]\u001b[0m, in \u001b[0;36m<cell line: 1>\u001b[0;34m()\u001b[0m\n\u001b[0;32m----> 1\u001b[0m \u001b[38;5;28;01mfrom\u001b[39;00m \u001b[38;5;21;01mcommands\u001b[39;00m \u001b[38;5;28;01mimport\u001b[39;00m \u001b[38;5;241m*\u001b[39m\n\u001b[1;32m      2\u001b[0m \u001b[38;5;28;01mfrom\u001b[39;00m \u001b[38;5;21;01mclient\u001b[39;00m \u001b[38;5;28;01mimport\u001b[39;00m \u001b[38;5;241m*\u001b[39m\n\u001b[1;32m      4\u001b[0m tree \u001b[38;5;241m=\u001b[39m requestJointReconstruction(aln\u001b[38;5;241m=\u001b[39m\u001b[38;5;124m\"\u001b[39m\u001b[38;5;124m./test_data/big_test_data/GRASPTutorial_Final.aln\u001b[39m\u001b[38;5;124m\"\u001b[39m,\n\u001b[1;32m      5\u001b[0m                                   nwk\u001b[38;5;241m=\u001b[39m\u001b[38;5;124m\"\u001b[39m\u001b[38;5;124m./test_data/big_test_data/GRASPTutorial_Final.nwk\u001b[39m\u001b[38;5;124m\"\u001b[39m)\n",
      "File \u001b[0;32m~/GRASP_API/python_structures/commands.py:394\u001b[0m, in \u001b[0;36m<module>\u001b[0;34m\u001b[0m\n\u001b[1;32m    389\u001b[0m     j_request \u001b[38;5;241m=\u001b[39m json\u001b[38;5;241m.\u001b[39mdumps(request) \u001b[38;5;241m+\u001b[39m \u001b[38;5;124m'\u001b[39m\u001b[38;5;130;01m\\n\u001b[39;00m\u001b[38;5;124m'\u001b[39m\n\u001b[1;32m    391\u001b[0m     \u001b[38;5;28;01mreturn\u001b[39;00m client\u001b[38;5;241m.\u001b[39msendRequest(j_request)\n\u001b[0;32m--> 394\u001b[0m tree \u001b[38;5;241m=\u001b[39m \u001b[43mrequestJointReconstruction\u001b[49m\u001b[43m(\u001b[49m\u001b[43maln\u001b[49m\u001b[38;5;241;43m=\u001b[39;49m\u001b[38;5;124;43m\"\u001b[39;49m\u001b[38;5;124;43m./test_data/big_test_data/GRASPTutorial_Final.aln\u001b[39;49m\u001b[38;5;124;43m\"\u001b[39;49m\u001b[43m,\u001b[49m\n\u001b[1;32m    395\u001b[0m \u001b[43m                                  \u001b[49m\u001b[43mnwk\u001b[49m\u001b[38;5;241;43m=\u001b[39;49m\u001b[38;5;124;43m\"\u001b[39;49m\u001b[38;5;124;43m./test_data/big_test_data/GRASPTutorial_Final.nwk\u001b[39;49m\u001b[38;5;124;43m\"\u001b[39;49m\u001b[43m)\u001b[49m\n",
      "File \u001b[0;32m~/GRASP_API/python_structures/commands.py:375\u001b[0m, in \u001b[0;36mrequestJointReconstruction\u001b[0;34m(aln, nwk, auth, indels, model)\u001b[0m\n\u001b[1;32m    371\u001b[0m request[\u001b[38;5;124m\"\u001b[39m\u001b[38;5;124mAuth\u001b[39m\u001b[38;5;124m\"\u001b[39m] \u001b[38;5;241m=\u001b[39m auth\n\u001b[1;32m    373\u001b[0m params \u001b[38;5;241m=\u001b[39m \u001b[38;5;28mdict\u001b[39m()\n\u001b[0;32m--> 375\u001b[0m \u001b[38;5;28;01mwith\u001b[39;00m \u001b[38;5;28;43mopen\u001b[39;49m\u001b[43m(\u001b[49m\u001b[43mnwk\u001b[49m\u001b[43m,\u001b[49m\u001b[43m \u001b[49m\u001b[38;5;124;43m'\u001b[39;49m\u001b[38;5;124;43mr\u001b[39;49m\u001b[38;5;124;43m'\u001b[39;49m\u001b[43m)\u001b[49m \u001b[38;5;28;01mas\u001b[39;00m f:\n\u001b[1;32m    376\u001b[0m     tree \u001b[38;5;241m=\u001b[39m \u001b[38;5;124m\"\u001b[39m\u001b[38;5;124m\"\u001b[39m\n\u001b[1;32m    377\u001b[0m     \u001b[38;5;28;01mfor\u001b[39;00m line \u001b[38;5;129;01min\u001b[39;00m f:\n",
      "\u001b[0;31mFileNotFoundError\u001b[0m: [Errno 2] No such file or directory: './test_data/big_test_data/GRASPTutorial_Final.nwk'"
     ]
    }
   ],
   "source": [
    "from commands import *\n",
    "from client import *\n",
    "import os\n",
    "\n",
    "print(os.getchwd())\n",
    "\n",
    "tree = requestJointReconstruction(aln=\"./test_data/big_test_data/GRASPTutorial_Final.aln\",\n",
    "                                  nwk=\"./test_data/big_test_data/GRASPTutorial_Final.nwk\")\n",
    "\n",
    "print(tree)\n"
   ]
  },
  {
   "cell_type": "code",
   "execution_count": null,
   "id": "e1e96892",
   "metadata": {},
   "outputs": [],
   "source": [
    "requestPlaceInQueue(29)\n"
   ]
  },
  {
   "cell_type": "code",
   "execution_count": null,
   "id": "ec89813b",
   "metadata": {},
   "outputs": [],
   "source": [
    "\n",
    "output = requestJobOutput(32)\n"
   ]
  }
 ],
 "metadata": {
  "kernelspec": {
   "display_name": "Python 3 (ipykernel)",
   "language": "python",
   "name": "python3"
  },
  "language_info": {
   "codemirror_mode": {
    "name": "ipython",
    "version": 3
   },
   "file_extension": ".py",
   "mimetype": "text/x-python",
   "name": "python",
   "nbconvert_exporter": "python",
   "pygments_lexer": "ipython3",
   "version": "3.9.15"
  }
 },
 "nbformat": 4,
 "nbformat_minor": 5
}
