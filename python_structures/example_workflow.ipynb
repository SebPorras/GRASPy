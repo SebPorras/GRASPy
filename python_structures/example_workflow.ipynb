{
 "cells": [
  {
   "cell_type": "code",
   "execution_count": 1,
   "metadata": {},
   "outputs": [],
   "source": [
    "import os\n",
    "import g_requests\n",
    "import parsers\n",
    "os.getcwd()\n",
    "import pandas as pd "
   ]
  },
  {
   "attachments": {},
   "cell_type": "markdown",
   "metadata": {},
   "source": [
    "# Performing joint reconstructions.\n",
    "\n",
    "Step 1) Submit the job to the server"
   ]
  },
  {
   "cell_type": "code",
   "execution_count": 2,
   "metadata": {},
   "outputs": [
    {
     "name": "stdout",
     "output_type": "stream",
     "text": [
      "Socket created...\n",
      "\n",
      "Connecting to server...\n",
      "\n",
      "Socket connected to 10.139.1.21 on IP 4072\n",
      "\n",
      "Closing socket...\n",
      "\n"
     ]
    },
    {
     "data": {
      "text/plain": [
       "'{\"Message\":\"Queued\",\"Job\":22}\\n'"
      ]
     },
     "execution_count": 2,
     "metadata": {},
     "output_type": "execute_result"
    }
   ],
   "source": [
    "g_requests.requestJointReconstruction(aln=\"../test_data/big_test_data/GRASPTutorial_Final.aln\",\n",
    "                                      nwk=\"../test_data/big_test_data/GRASPTutorial_Final.nwk\")"
   ]
  },
  {
   "attachments": {},
   "cell_type": "markdown",
   "metadata": {},
   "source": [
    "Step 2) Find out where your job is in the queue"
   ]
  },
  {
   "cell_type": "code",
   "execution_count": 3,
   "metadata": {},
   "outputs": [
    {
     "name": "stdout",
     "output_type": "stream",
     "text": [
      "Socket created...\n",
      "\n",
      "Connecting to server...\n",
      "\n",
      "Socket connected to 10.139.1.21 on IP 4072\n",
      "\n",
      "Closing socket...\n",
      "\n"
     ]
    },
    {
     "data": {
      "text/plain": [
       "'{\"Job\":22,\"Place\":0}\\n'"
      ]
     },
     "execution_count": 3,
     "metadata": {},
     "output_type": "execute_result"
    }
   ],
   "source": [
    "g_requests.requestPlaceInQueue(22)"
   ]
  },
  {
   "attachments": {},
   "cell_type": "markdown",
   "metadata": {},
   "source": [
    "Step 3) Retrieve your job which will have the POG graphs "
   ]
  },
  {
   "cell_type": "code",
   "execution_count": 2,
   "metadata": {},
   "outputs": [
    {
     "name": "stdout",
     "output_type": "stream",
     "text": [
      "Socket created...\n",
      "\n",
      "Connecting to server...\n",
      "\n",
      "Socket connected to 10.139.1.21 on IP 4072\n",
      "\n",
      "Closing socket...\n",
      "\n"
     ]
    }
   ],
   "source": [
    "graphs = g_requests.requestJobOutput(22)\n"
   ]
  },
  {
   "attachments": {},
   "cell_type": "markdown",
   "metadata": {},
   "source": [
    "Step 4 - Optional) Request POGs for extant sequences "
   ]
  },
  {
   "cell_type": "code",
   "execution_count": null,
   "metadata": {},
   "outputs": [],
   "source": [
    "extant_tree = g_requests.requestExtantPOGTree(aln=\"../test_data/big_test_data/GRASPTutorial_Final.aln\",\n",
    "nwk=\"../test_data/big_test_data/GRASPTutorial_Final.nwk\")\n"
   ]
  },
  {
   "attachments": {},
   "cell_type": "markdown",
   "metadata": {},
   "source": [
    "Step 5 - Option 1) Build a POG tree from extant and ancesor POGs using both of the server outputs \n",
    "\n",
    "- The advantage of doing it this way is that the POGTree object will contain sequence information on the BranchPoints for ancestors AND extants "
   ]
  },
  {
   "cell_type": "code",
   "execution_count": 7,
   "metadata": {},
   "outputs": [],
   "source": [
    "tree = parsers.POGTreeFromJSON(extant_tree, graphs)\n",
    "\n",
    "tree.branchpoints[\"XP_012687241.1\"].seq"
   ]
  },
  {
   "attachments": {},
   "cell_type": "markdown",
   "metadata": {},
   "source": [
    "Step 5 - Option 2) Build a POGTree from the ancestor POG and from a nwk file string \n",
    "\n",
    "- ONLY ancestors will have sequence information based on the most likely symbol at each position in the sequence"
   ]
  },
  {
   "cell_type": "code",
   "execution_count": 3,
   "metadata": {},
   "outputs": [],
   "source": [
    "tree = parsers.POGTreeFromJSON(nwk=\"../test_data/big_test_data/GRASPTutorial_Final.nwk\", POG_graphs=graphs)"
   ]
  },
  {
   "attachments": {},
   "cell_type": "markdown",
   "metadata": {},
   "source": [
    "# Learning distributions from data \n",
    "\n",
    "The following instructions demonstrate how to learn a probability distribution from data. I need to add option to change some of the parameters as currently just runs on default settings. \n",
    "\n",
    "Step 1 - Optional) The data below is a demonstration of how data should be formated in a CSV.\n",
    "\n",
    "- Currently only implemented to accept 1 data point per sequence"
   ]
  },
  {
   "cell_type": "code",
   "execution_count": 3,
   "metadata": {},
   "outputs": [],
   "source": [
    "df = pd.DataFrame()\n",
    "\n",
    "headers = [\"A5ILB0\",\"P08144\",\"P29957\",\"H2N0D4\",\"T1WDH2\",\"T1WE96\",\"H9B4I9\",\"A0A060DAC6\",\"Q47R94\",\"Q5UZY3\",\"D8J7H2\",\"Q4A3E0\",\"L8B068\",\"Q2QC88\",\"O93647\",\"Q4J9M2\",\"Q97YY0\",\"O33476\",\"D0KTV8\",\"P96107\",\"P06279\",\"P04746\",\"P00690\",\"O08452\",\"D4P4Y7\",\"Q1KLC8\",\"Q8A1G3\",\"P17654\",\"B8Y698\",\"P00692\",\"B8Y1H0\",\"B1VK33\",\"B5ARZ9\",\"P20845\",\"B6RB08\",\"P06278\",\"P04063\",\"P00693\",\"Q8LJQ6\",\"Q2KJQ1\",\"Q6WUB6\",\"A8VWC5\",\"A0SEG1\",\"P04745\",\"Q75UG5\"]\n",
    "data = [[8.5],[7.35],[7.35],[7],[9],[9],[None],[8.5],[7.35],[None],[None],[None],[7],[5.75],[5.25],[3.25],[None],[6.5],[None],[None],[None],[None],[7.35],[5.75],[5.5],[7],[None],[None],[8],[6],[None],[7],[6.5],[None],[6.5],[6.466666666666666],[None],[None],[None],[None],[9.5],[None],[None],[6.9],[7]]\n",
    "\n",
    "df[\"Headers\"] = headers\n",
    "df[\"Data\"] = data\n",
    "\n",
    "df.to_csv('train_data.csv', index=False)\n"
   ]
  },
  {
   "attachments": {},
   "cell_type": "markdown",
   "metadata": {},
   "source": [
    "Step 2) Send request to the server"
   ]
  },
  {
   "cell_type": "code",
   "execution_count": 2,
   "metadata": {},
   "outputs": [
    {
     "name": "stdout",
     "output_type": "stream",
     "text": [
      "Socket created...\n",
      "\n",
      "Connecting to server...\n",
      "\n",
      "Socket connected to 10.139.1.21 on IP 4072\n",
      "\n",
      "Closing socket...\n",
      "\n"
     ]
    },
    {
     "data": {
      "text/plain": [
       "'{\"Message\":\"Queued\",\"Job\":26}\\n'"
      ]
     },
     "execution_count": 2,
     "metadata": {},
     "output_type": "execute_result"
    }
   ],
   "source": [
    "g_requests.requestTrainFromData(nwk=\"./3_2_1_1_filt.nwk\", states=[\"A\", \"B\"], data=\"train_data.csv\")"
   ]
  },
  {
   "attachments": {},
   "cell_type": "markdown",
   "metadata": {},
   "source": [
    "Step 3) Check the status of your job "
   ]
  },
  {
   "cell_type": "code",
   "execution_count": 3,
   "metadata": {},
   "outputs": [
    {
     "name": "stdout",
     "output_type": "stream",
     "text": [
      "Socket created...\n",
      "\n",
      "Connecting to server...\n",
      "\n",
      "Socket connected to 10.139.1.21 on IP 4072\n",
      "\n",
      "Closing socket...\n",
      "\n"
     ]
    },
    {
     "data": {
      "text/plain": [
       "'{\"Job\":26,\"Place\":0}\\n'"
      ]
     },
     "execution_count": 3,
     "metadata": {},
     "output_type": "execute_result"
    }
   ],
   "source": [
    "g_requests.requestPlaceInQueue(26)"
   ]
  },
  {
   "attachments": {},
   "cell_type": "markdown",
   "metadata": {},
   "source": [
    "Step 4) Retrieve your job and save the output"
   ]
  },
  {
   "cell_type": "code",
   "execution_count": 4,
   "metadata": {},
   "outputs": [
    {
     "name": "stdout",
     "output_type": "stream",
     "text": [
      "Socket created...\n",
      "\n",
      "Connecting to server...\n",
      "\n",
      "Socket connected to 10.139.1.21 on IP 4072\n",
      "\n",
      "Closing socket...\n",
      "\n"
     ]
    }
   ],
   "source": [
    "out = g_requests.requestJobOutput(26)"
   ]
  },
  {
   "cell_type": "code",
   "execution_count": 5,
   "metadata": {},
   "outputs": [
    {
     "data": {
      "text/plain": [
       "{'Job': 26,\n",
       " 'Result': {'Distrib': {'Condition': [['A'], ['B']],\n",
       "   'Pr': [[6.578658560392298, 0.5003342721876141],\n",
       "    [8.632049675842909, 0.5003342721876141]],\n",
       "   'Index': [0, 1],\n",
       "   'Domain': 'dat.Continuous@6d74d0bf'}}}"
      ]
     },
     "execution_count": 5,
     "metadata": {},
     "output_type": "execute_result"
    }
   ],
   "source": [
    "out"
   ]
  }
 ],
 "metadata": {
  "kernelspec": {
   "display_name": "GRASPy",
   "language": "python",
   "name": "python3"
  },
  "language_info": {
   "codemirror_mode": {
    "name": "ipython",
    "version": 3
   },
   "file_extension": ".py",
   "mimetype": "text/x-python",
   "name": "python",
   "nbconvert_exporter": "python",
   "pygments_lexer": "ipython3",
   "version": "3.9.16"
  },
  "orig_nbformat": 4,
  "vscode": {
   "interpreter": {
    "hash": "a0c94fc6a065e1544b277cf790c4095db72a11be29cfda401c5045b27b0370ef"
   }
  }
 },
 "nbformat": 4,
 "nbformat_minor": 2
}
