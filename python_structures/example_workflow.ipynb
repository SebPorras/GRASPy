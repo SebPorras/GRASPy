{
 "cells": [
  {
   "cell_type": "code",
   "execution_count": 1,
   "metadata": {},
   "outputs": [],
   "source": [
    "import os\n",
    "import g_requests\n",
    "import parsers\n",
    "os.getcwd()\n",
    "import pandas as pd "
   ]
  },
  {
   "attachments": {},
   "cell_type": "markdown",
   "metadata": {},
   "source": [
    "Documentation can be found here - https://sebporras.github.io/GRASP_API/\n",
    "\n"
   ]
  },
  {
   "attachments": {},
   "cell_type": "markdown",
   "metadata": {},
   "source": [
    "# Performing joint reconstructions.\n",
    "\n",
    "Step 1) Submit the job to the server"
   ]
  },
  {
   "cell_type": "code",
   "execution_count": 2,
   "metadata": {},
   "outputs": [
    {
     "name": "stdout",
     "output_type": "stream",
     "text": [
      "Socket created...\n",
      "\n",
      "Connecting to server...\n",
      "\n",
      "Socket connected to 10.139.1.21 on IP 4072\n",
      "\n",
      "Closing socket...\n",
      "\n"
     ]
    },
    {
     "data": {
      "text/plain": [
       "'{\"Message\":\"Queued\",\"Job\":31}\\n'"
      ]
     },
     "execution_count": 2,
     "metadata": {},
     "output_type": "execute_result"
    }
   ],
   "source": [
    "g_requests.JointReconstruction(aln=\"../test_data/big_test_data/GRASPTutorial_Final.aln\",\n",
    "                                      nwk=\"../test_data/big_test_data/GRASPTutorial_Final.nwk\")"
   ]
  },
  {
   "attachments": {},
   "cell_type": "markdown",
   "metadata": {},
   "source": [
    "Step 2) Find out where your job is in the queue"
   ]
  },
  {
   "cell_type": "code",
   "execution_count": 3,
   "metadata": {},
   "outputs": [
    {
     "name": "stdout",
     "output_type": "stream",
     "text": [
      "Socket created...\n",
      "\n",
      "Connecting to server...\n",
      "\n",
      "Socket connected to 10.139.1.21 on IP 4072\n",
      "\n",
      "Closing socket...\n",
      "\n"
     ]
    },
    {
     "data": {
      "text/plain": [
       "'{\"Job\":27,\"Place\":0}\\n'"
      ]
     },
     "execution_count": 3,
     "metadata": {},
     "output_type": "execute_result"
    }
   ],
   "source": [
    "g_requests.PlaceInQueue(27)"
   ]
  },
  {
   "attachments": {},
   "cell_type": "markdown",
   "metadata": {},
   "source": [
    "Step 3) Retrieve your job which will have the POG graphs "
   ]
  },
  {
   "cell_type": "code",
   "execution_count": 4,
   "metadata": {},
   "outputs": [
    {
     "name": "stdout",
     "output_type": "stream",
     "text": [
      "Socket created...\n",
      "\n",
      "Connecting to server...\n",
      "\n",
      "Socket connected to 10.139.1.21 on IP 4072\n",
      "\n",
      "Closing socket...\n",
      "\n"
     ]
    }
   ],
   "source": [
    "graphs = g_requests.JobOutput(27)\n"
   ]
  },
  {
   "attachments": {},
   "cell_type": "markdown",
   "metadata": {},
   "source": [
    "Step 4 - Optional) Request POGs for extant sequences "
   ]
  },
  {
   "cell_type": "code",
   "execution_count": 5,
   "metadata": {},
   "outputs": [
    {
     "name": "stdout",
     "output_type": "stream",
     "text": [
      "Socket created...\n",
      "\n",
      "Connecting to server...\n",
      "\n",
      "Socket connected to 10.139.1.21 on IP 4072\n",
      "\n",
      "Closing socket...\n",
      "\n"
     ]
    }
   ],
   "source": [
    "extant_tree = g_requests.ExtantPOGTree(aln=\"../test_data/big_test_data/GRASPTutorial_Final.aln\",\n",
    "nwk=\"../test_data/big_test_data/GRASPTutorial_Final.nwk\")\n"
   ]
  },
  {
   "attachments": {},
   "cell_type": "markdown",
   "metadata": {},
   "source": [
    "Step 5 - Option 1) Build a POG tree from extant and ancesor POGs using both of the server outputs \n",
    "\n",
    "- The advantage of doing it this way is that the POGTree object will contain sequence information on the BranchPoints for ancestors AND extants "
   ]
  },
  {
   "cell_type": "code",
   "execution_count": 6,
   "metadata": {},
   "outputs": [
    {
     "data": {
      "text/plain": [
       "'PPGPTPWPLVGNFGGFLVPSFISRRFGRNREEYAQRTSNPVSPQVGLMELSKIYGNIYSIFVGSQLMVLLTGYEVVRDALSNHAEVFSDRPDVPIITIMTKRKGIVFAPYGPVWRKQRKFCHSTLRSFGLGKLSLEPCILEGVSIVKSELLSLSNESGEMGVDPTPLISNAVSNVISSISLGQRFHHQDQEFRTLLDLMARGLEISVNSHAVLINIFPWLYHMPCGVFKELRQVEGDITAFLKRIIARHRATLDPENPRDLIDMYLVEMLAQQTAAEPTENTFSEDYLFYIIGDLFIAGTDTTTNSMLWILLYMCLYPDIQEKVQEEIDAVIGRDKVPSLTDKGCLSFTEATIMEVQRMTVVVPLAIPHMASKTTVFRGYTIPKGTVIIPNLWSVHRDPSVWDSPDDFNPSRFLDEQGKLLRKDYFIPFGIGRRVCMGEQLAKMELFLMFTNLMQAFTFRFPKGKPPPPMHGRFGLTLAPCPYTVCVTPR'"
      ]
     },
     "execution_count": 6,
     "metadata": {},
     "output_type": "execute_result"
    }
   ],
   "source": [
    "tree = parsers.POGTreeFromJSON(extant_tree, graphs)\n",
    "\n",
    "tree.branchpoints[\"XP_012687241.1\"].seq"
   ]
  },
  {
   "attachments": {},
   "cell_type": "markdown",
   "metadata": {},
   "source": [
    "Step 5 - Option 2) Build a POGTree from the ancestor POG and from a nwk file string \n",
    "\n",
    "- ONLY ancestors will have sequence information based on the most likely symbol at each position in the sequence"
   ]
  },
  {
   "cell_type": "code",
   "execution_count": 3,
   "metadata": {},
   "outputs": [],
   "source": [
    "tree = parsers.POGTreeFromJSON(nwk=\"../test_data/big_test_data/GRASPTutorial_Final.nwk\", POG_graphs=graphs)"
   ]
  },
  {
   "attachments": {},
   "cell_type": "markdown",
   "metadata": {},
   "source": [
    "# Learning distributions from data \n",
    "\n",
    "The following instructions demonstrate how to learn a probability distribution from data. I need to add option to change some of the parameters as currently just runs on default settings. \n",
    "\n",
    "Step 1 - Optional) The data below is a demonstration of how data should be formated in a CSV.\n",
    "\n",
    "- Currently only implemented to accept 1 data point per sequence"
   ]
  },
  {
   "cell_type": "code",
   "execution_count": 4,
   "metadata": {},
   "outputs": [],
   "source": [
    "df = pd.DataFrame()\n",
    "\n",
    "headers = [\"A5ILB0\",\"P08144\",\"P29957\",\"H2N0D4\",\"T1WDH2\",\"T1WE96\",\"H9B4I9\",\"A0A060DAC6\",\"Q47R94\",\"Q5UZY3\",\"D8J7H2\",\"Q4A3E0\",\"L8B068\",\"Q2QC88\",\"O93647\",\"Q4J9M2\",\"Q97YY0\",\"O33476\",\"D0KTV8\",\"P96107\",\"P06279\",\"P04746\",\"P00690\",\"O08452\",\"D4P4Y7\",\"Q1KLC8\",\"Q8A1G3\",\"P17654\",\"B8Y698\",\"P00692\",\"B8Y1H0\",\"B1VK33\",\"B5ARZ9\",\"P20845\",\"B6RB08\",\"P06278\",\"P04063\",\"P00693\",\"Q8LJQ6\",\"Q2KJQ1\",\"Q6WUB6\",\"A8VWC5\",\"A0SEG1\",\"P04745\",\"Q75UG5\"]\n",
    "data = [8.5,7.35,7.35,7,9,9,None,8.5,7.35,None,None,None,7,5.75,5.25,3.25,None,6.5,None,None,None,None,7.35,5.75,5.5,7,None,None,8,6,None,7,6.5,None,6.5,6.466666666666666,None,None,None,None,9.5,None,None,6.9,7]\n",
    "\n",
    "df[\"Headers\"] = headers\n",
    "df[\"Data\"] = data\n",
    "\n",
    "df.to_csv('train_data.csv', index=False)\n"
   ]
  },
  {
   "attachments": {},
   "cell_type": "markdown",
   "metadata": {},
   "source": [
    "Step 2) Send request to the server"
   ]
  },
  {
   "cell_type": "code",
   "execution_count": 3,
   "metadata": {},
   "outputs": [
    {
     "name": "stdout",
     "output_type": "stream",
     "text": [
      "Socket created...\n",
      "\n",
      "Connecting to server...\n",
      "\n",
      "Socket connected to 10.139.1.21 on IP 4072\n",
      "\n",
      "Closing socket...\n",
      "\n"
     ]
    },
    {
     "data": {
      "text/plain": [
       "'{\"Message\":\"Queued\",\"Job\":32}\\n'"
      ]
     },
     "execution_count": 3,
     "metadata": {},
     "output_type": "execute_result"
    }
   ],
   "source": [
    "\n",
    "\n",
    "g_requests.TrainFromData(nwk=\"./3_2_1_1_filt.nwk\", states=[\"A\", \"B\"], data=\"train_data.csv\")"
   ]
  },
  {
   "attachments": {},
   "cell_type": "markdown",
   "metadata": {},
   "source": [
    "Step 3) Check the status of your job "
   ]
  },
  {
   "cell_type": "code",
   "execution_count": 4,
   "metadata": {},
   "outputs": [
    {
     "name": "stdout",
     "output_type": "stream",
     "text": [
      "Socket created...\n",
      "\n",
      "Connecting to server...\n",
      "\n",
      "Socket connected to 10.139.1.21 on IP 4072\n",
      "\n",
      "Closing socket...\n",
      "\n"
     ]
    },
    {
     "data": {
      "text/plain": [
       "'{\"Job\":32,\"Place\":0}\\n'"
      ]
     },
     "execution_count": 4,
     "metadata": {},
     "output_type": "execute_result"
    }
   ],
   "source": [
    "g_requests.PlaceInQueue(32)"
   ]
  },
  {
   "attachments": {},
   "cell_type": "markdown",
   "metadata": {},
   "source": [
    "Step 4) Retrieve your job and save the output"
   ]
  },
  {
   "cell_type": "code",
   "execution_count": 2,
   "metadata": {},
   "outputs": [
    {
     "name": "stdout",
     "output_type": "stream",
     "text": [
      "Socket created...\n",
      "\n",
      "Connecting to server...\n",
      "\n",
      "Socket connected to 10.139.1.21 on IP 4072\n",
      "\n",
      "Closing socket...\n",
      "\n"
     ]
    }
   ],
   "source": [
    "out = g_requests.JobOutput(32)"
   ]
  },
  {
   "cell_type": "code",
   "execution_count": 4,
   "metadata": {},
   "outputs": [
    {
     "data": {
      "text/plain": [
       "{'Job': 32,\n",
       " 'Result': {'Distrib': {'Condition': [['A'], ['B']],\n",
       "   'Pr': [[6.578658560392298, 0.500334272187614],\n",
       "    [8.632049675842907, 0.500334272187614]],\n",
       "   'Index': [0, 1],\n",
       "   'Domain': 'dat.Continuous@56b7d0f2'}}}"
      ]
     },
     "execution_count": 4,
     "metadata": {},
     "output_type": "execute_result"
    }
   ],
   "source": [
    "out"
   ]
  },
  {
   "attachments": {},
   "cell_type": "markdown",
   "metadata": {},
   "source": [
    "Step 5) This distribution can be further refined with requestInferFromData"
   ]
  },
  {
   "cell_type": "code",
   "execution_count": 5,
   "metadata": {},
   "outputs": [
    {
     "name": "stdout",
     "output_type": "stream",
     "text": [
      "{\"Command\": \"Infer\", \"Auth\": \"Guest\", \"Params\": {\"States\": [\"A\", \"B\"], \"Tree\": {\"Parents\": [-1, 0, 0, 0, 3, 3, 5, 6, 6, 8, 9, 9, 8, 12, 12, 14, 15, 16, 17, 17, 16, 20, 20, 22, 22, 24, 24, 26, 26, 15, 29, 30, 30, 32, 32, 29, 35, 35, 37, 37, 14, 40, 41, 41, 43, 43, 45, 45, 47, 47, 49, 49, 40, 52, 53, 54, 54, 53, 57, 57, 52, 60, 60, 62, 62, 64, 64, 5, 67, 67, 69, 70, 70, 69, 73, 73], \"Labels\": [\"0\", \"P08144\", \"B8Y698\", \"10.404\", \"Q2KJQ1\", \"20.912\", \"30.882\", \"P29957\", \"40.866\", \"51.000\", \"Q47R94\", \"Q1KLC8\", \"61.000\", \"Q4A3E0\", \"70.870\", \"80.951\", \"90.967\", \"101.000\", \"Q5UZY3\", \"L8B068\", \"110.970\", \"Q8A1G3\", \"120.830\", \"D8J7H2\", \"130.637\", \"P20845\", \"141.000\", \"A5ILB0\", \"P96107\", \"150.980\", \"160.953\", \"D4P4Y7\", \"170.999\", \"T1WDH2\", \"T1WE96\", \"181.000\", \"H9B4I9\", \"190.759\", \"B8Y1H0\", \"A8VWC5\", \"201.000\", \"210.842\", \"Q6WUB6\", \"220.999\", \"A0A060DAC6\", \"230.502\", \"B1VK33\", \"240.771\", \"P06279\", \"251.000\", \"P00692\", \"P06278\", \"260.866\", \"271.000\", \"280.150\", \"O33476\", \"O08452\", \"290.503\", \"Q2QC88\", \"O93647\", \"301.000\", \"Q8LJQ6\", \"310.915\", \"P00693\", \"320.983\", \"P17654\", \"P04063\", \"330.848\", \"B6RB08\", \"341.000\", \"350.999\", \"P04746\", \"P00690\", \"360.922\", \"H2N0D4\", \"A0SEG1\"], \"Distances\": [0.0, 0.243543659, 0.328253867, 0.061234395, 0.302246327, 0.104112732, 0.129975033, 0.492317028, 0.168477423, 0.472234961, 5e-09, 0.001470602, 0.838140064, 0.758927261, 0.118993954, 0.217610635, 0.256851036, 0.71053731, 0.388091681, 0.525286732, 0.279916536, 0.876914346, 0.093326396, 0.897751479, 0.091555295, 0.581536564, 0.645218372, 0.009417249, 0.013626135, 0.388197737, 0.242001003, 0.554412114, 0.442555732, 0.198231144, 0.203377051, 1.173898406, 0.051873954, 0.030364499, 0.002987842, 0.002295265, 0.692720871, 0.165853581, 0.630412028, 0.301179158, 0.564737357, 0.098304443, 0.525139427, 0.114171367, 0.243352437, 0.187788353, 0.148531194, 0.088716021, 0.144788807, 0.522130083, 0.035341913, 0.052453145, 0.084658893, 0.032451459, 0.089455947, 0.071707337, 1.039127746, 0.133051046, 0.105731012, 0.187271089, 0.078869174, 0.093152494, 0.082644055, 0.052339221, 0.342080258, 0.20996685, 0.115876665, 0.090541678, 0.04644842, 0.068089852, 0.0917515, 0.142809732], \"Branchpoints\": 76}, \"Dataset\": {\"Headers\": [\"A5ILB0\", \"P08144\", \"P29957\", \"H2N0D4\", \"T1WDH2\", \"T1WE96\", \"H9B4I9\", \"A0A060DAC6\", \"Q47R94\", \"Q5UZY3\", \"D8J7H2\", \"Q4A3E0\", \"L8B068\", \"Q2QC88\", \"O93647\", \"Q4J9M2\", \"Q97YY0\", \"O33476\", \"D0KTV8\", \"P96107\", \"P06279\", \"P04746\", \"P00690\", \"O08452\", \"D4P4Y7\", \"Q1KLC8\", \"Q8A1G3\", \"P17654\", \"B8Y698\", \"P00692\", \"B8Y1H0\", \"B1VK33\", \"B5ARZ9\", \"P20845\", \"B6RB08\", \"P06278\", \"P04063\", \"P00693\", \"Q8LJQ6\", \"Q2KJQ1\", \"Q6WUB6\", \"A8VWC5\", \"A0SEG1\", \"P04745\", \"Q75UG5\"], \"Data\": [[8.5], [7.35], [7.35], [7.0], [9.0], [9.0], [null], [8.5], [7.35], [null], [null], [null], [7.0], [5.75], [5.25], [3.25], [null], [6.5], [null], [null], [null], [null], [7.35], [5.75], [5.5], [7.0], [null], [null], [8.0], [6.0], [null], [7.0], [6.5], [null], [6.5], [6.466666666666666], [null], [null], [null], [null], [9.5], [null], [null], [6.9], [7.0]]}, \"Distrib\": {\"Job\": 32, \"Result\": {\"Distrib\": {\"Condition\": [[\"A\"], [\"B\"]], \"Pr\": [[6.578658560392298, 0.500334272187614], [8.632049675842907, 0.500334272187614]], \"Index\": [0, 1], \"Domain\": \"dat.Continuous@56b7d0f2\"}}}}}\n",
      "\n"
     ]
    }
   ],
   "source": [
    "infer = g_requests.InferFromData(nwk=\"./3_2_1_1_filt.nwk\", \n",
    "states=[\"A\", \"B\"], data=\"train_data.csv\", distrib=out)"
   ]
  },
  {
   "cell_type": "code",
   "execution_count": 5,
   "metadata": {},
   "outputs": [
    {
     "data": {
      "text/plain": [
       "'{\"Comment\":\"Invalid request: Invalid JSON in command : Infer; JSONObject[\\\\\"Index\\\\\"] not found.\",\"Message\":\"Request is invalid\",\"Error\":4}\\n'"
      ]
     },
     "execution_count": 5,
     "metadata": {},
     "output_type": "execute_result"
    }
   ],
   "source": [
    "infer"
   ]
  }
 ],
 "metadata": {
  "kernelspec": {
   "display_name": "GRASPy",
   "language": "python",
   "name": "python3"
  },
  "language_info": {
   "codemirror_mode": {
    "name": "ipython",
    "version": 3
   },
   "file_extension": ".py",
   "mimetype": "text/x-python",
   "name": "python",
   "nbconvert_exporter": "python",
   "pygments_lexer": "ipython3",
   "version": "3.9.16"
  },
  "orig_nbformat": 4,
  "vscode": {
   "interpreter": {
    "hash": "a0c94fc6a065e1544b277cf790c4095db72a11be29cfda401c5045b27b0370ef"
   }
  }
 },
 "nbformat": 4,
 "nbformat_minor": 2
}
