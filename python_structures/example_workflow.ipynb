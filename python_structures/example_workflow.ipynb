{
 "cells": [
  {
   "cell_type": "code",
   "execution_count": 1,
   "metadata": {},
   "outputs": [],
   "source": [
    "import os\n",
    "import g_requests\n",
    "import parsers\n",
    "os.getcwd()\n",
    "import pandas as pd "
   ]
  },
  {
   "cell_type": "code",
   "execution_count": 2,
   "metadata": {},
   "outputs": [
    {
     "name": "stdout",
     "output_type": "stream",
     "text": [
      "Socket created...\n",
      "\n",
      "Connecting to server...\n",
      "\n",
      "Socket connected to 10.139.1.21 on IP 4072\n",
      "\n",
      "Closing socket...\n",
      "\n"
     ]
    },
    {
     "data": {
      "text/plain": [
       "'{\"Message\":\"Queued\",\"Job\":22}\\n'"
      ]
     },
     "execution_count": 2,
     "metadata": {},
     "output_type": "execute_result"
    }
   ],
   "source": [
    "g_requests.requestJointReconstruction(aln=\"../test_data/big_test_data/GRASPTutorial_Final.aln\",\n",
    "                                      nwk=\"../test_data/big_test_data/GRASPTutorial_Final.nwk\")"
   ]
  },
  {
   "cell_type": "code",
   "execution_count": 3,
   "metadata": {},
   "outputs": [
    {
     "name": "stdout",
     "output_type": "stream",
     "text": [
      "Socket created...\n",
      "\n",
      "Connecting to server...\n",
      "\n",
      "Socket connected to 10.139.1.21 on IP 4072\n",
      "\n",
      "Closing socket...\n",
      "\n"
     ]
    },
    {
     "data": {
      "text/plain": [
       "'{\"Job\":22,\"Place\":0}\\n'"
      ]
     },
     "execution_count": 3,
     "metadata": {},
     "output_type": "execute_result"
    }
   ],
   "source": [
    "g_requests.requestPlaceInQueue(22)"
   ]
  },
  {
   "cell_type": "code",
   "execution_count": 6,
   "metadata": {},
   "outputs": [
    {
     "name": "stdout",
     "output_type": "stream",
     "text": [
      "Socket created...\n",
      "\n",
      "Connecting to server...\n",
      "\n",
      "Socket connected to 10.139.1.21 on IP 4072\n",
      "\n",
      "Closing socket...\n",
      "\n"
     ]
    }
   ],
   "source": [
    "extant_tree = g_requests.requestPOGTree(aln=\"../test_data/big_test_data/GRASPTutorial_Final.aln\",\n",
    "nwk=\"../test_data/big_test_data/GRASPTutorial_Final.nwk\")\n",
    "\n"
   ]
  },
  {
   "cell_type": "code",
   "execution_count": 2,
   "metadata": {},
   "outputs": [
    {
     "name": "stdout",
     "output_type": "stream",
     "text": [
      "Socket created...\n",
      "\n",
      "Connecting to server...\n",
      "\n",
      "Socket connected to 10.139.1.21 on IP 4072\n",
      "\n",
      "Closing socket...\n",
      "\n"
     ]
    }
   ],
   "source": [
    "graphs = g_requests.requestJobOutput(22)\n"
   ]
  },
  {
   "cell_type": "code",
   "execution_count": 7,
   "metadata": {},
   "outputs": [],
   "source": [
    "tree = parsers.POGTreeFromJSON(extant_tree, graphs)\n"
   ]
  },
  {
   "cell_type": "code",
   "execution_count": 3,
   "metadata": {},
   "outputs": [],
   "source": [
    "tree = parsers.POGTreeFromJSON(nwk=\"../test_data/big_test_data/GRASPTutorial_Final.nwk\", POG_graphs=graphs)"
   ]
  },
  {
   "cell_type": "code",
   "execution_count": 5,
   "metadata": {},
   "outputs": [
    {
     "data": {
      "text/plain": [
       "''"
      ]
     },
     "execution_count": 5,
     "metadata": {},
     "output_type": "execute_result"
    }
   ],
   "source": [
    "tree.branchpoints[\"XP_012687241.1\"].seq"
   ]
  },
  {
   "cell_type": "code",
   "execution_count": 3,
   "metadata": {},
   "outputs": [],
   "source": [
    "df = pd.DataFrame()\n",
    "\n",
    "headers = [\"A5ILB0\",\"P08144\",\"P29957\",\"H2N0D4\",\"T1WDH2\",\"T1WE96\",\"H9B4I9\",\"A0A060DAC6\",\"Q47R94\",\"Q5UZY3\",\"D8J7H2\",\"Q4A3E0\",\"L8B068\",\"Q2QC88\",\"O93647\",\"Q4J9M2\",\"Q97YY0\",\"O33476\",\"D0KTV8\",\"P96107\",\"P06279\",\"P04746\",\"P00690\",\"O08452\",\"D4P4Y7\",\"Q1KLC8\",\"Q8A1G3\",\"P17654\",\"B8Y698\",\"P00692\",\"B8Y1H0\",\"B1VK33\",\"B5ARZ9\",\"P20845\",\"B6RB08\",\"P06278\",\"P04063\",\"P00693\",\"Q8LJQ6\",\"Q2KJQ1\",\"Q6WUB6\",\"A8VWC5\",\"A0SEG1\",\"P04745\",\"Q75UG5\"]\n",
    "data = [[8.5],[7.35],[7.35],[7],[9],[9],[None],[8.5],[7.35],[None],[None],[None],[7],[5.75],[5.25],[3.25],[None],[6.5],[None],[None],[None],[None],[7.35],[5.75],[5.5],[7],[None],[None],[8],[6],[None],[7],[6.5],[None],[6.5],[6.466666666666666],[None],[None],[None],[None],[9.5],[None],[None],[6.9],[7]]\n",
    "\n",
    "df[\"Headers\"] = headers\n",
    "df[\"Data\"] = data\n",
    "\n",
    "df.to_csv('train_data.csv', index=False)\n",
    "\n"
   ]
  },
  {
   "cell_type": "code",
   "execution_count": 2,
   "metadata": {},
   "outputs": [
    {
     "name": "stdout",
     "output_type": "stream",
     "text": [
      "Socket created...\n",
      "\n",
      "Connecting to server...\n",
      "\n",
      "Socket connected to 10.139.1.21 on IP 4072\n",
      "\n",
      "Closing socket...\n",
      "\n"
     ]
    },
    {
     "data": {
      "text/plain": [
       "'{\"Message\":\"Queued\",\"Job\":25}\\n'"
      ]
     },
     "execution_count": 2,
     "metadata": {},
     "output_type": "execute_result"
    }
   ],
   "source": [
    "g_requests.requestDataTrain(nwk=\"./3_2_1_1_filt.nwk\", states=[\"A\", \"B\"], data=\"train_data.csv\")"
   ]
  },
  {
   "cell_type": "code",
   "execution_count": 3,
   "metadata": {},
   "outputs": [
    {
     "name": "stdout",
     "output_type": "stream",
     "text": [
      "Socket created...\n",
      "\n",
      "Connecting to server...\n",
      "\n",
      "Socket connected to 10.139.1.21 on IP 4072\n",
      "\n",
      "Closing socket...\n",
      "\n"
     ]
    },
    {
     "data": {
      "text/plain": [
       "'{\"Job\":25,\"Place\":0}\\n'"
      ]
     },
     "execution_count": 3,
     "metadata": {},
     "output_type": "execute_result"
    }
   ],
   "source": [
    "g_requests.requestPlaceInQueue(25)"
   ]
  },
  {
   "cell_type": "code",
   "execution_count": 4,
   "metadata": {},
   "outputs": [
    {
     "name": "stdout",
     "output_type": "stream",
     "text": [
      "Socket created...\n",
      "\n",
      "Connecting to server...\n",
      "\n",
      "Socket connected to 10.139.1.21 on IP 4072\n",
      "\n",
      "Closing socket...\n",
      "\n"
     ]
    }
   ],
   "source": [
    "out = g_requests.requestJobOutput(25)"
   ]
  },
  {
   "cell_type": "code",
   "execution_count": 5,
   "metadata": {},
   "outputs": [
    {
     "data": {
      "text/plain": [
       "{'Job': 25,\n",
       " 'Result': {'Distrib': {'Condition': [['A'], ['B']],\n",
       "   'Pr': [[6.578658560392298, 0.5003342721876144],\n",
       "    [8.632049675842906, 0.5003342721876144]],\n",
       "   'Index': [0, 1],\n",
       "   'Domain': 'dat.Continuous@38446577'}}}"
      ]
     },
     "execution_count": 5,
     "metadata": {},
     "output_type": "execute_result"
    }
   ],
   "source": [
    "out"
   ]
  }
 ],
 "metadata": {
  "kernelspec": {
   "display_name": "GRASPy",
   "language": "python",
   "name": "python3"
  },
  "language_info": {
   "codemirror_mode": {
    "name": "ipython",
    "version": 3
   },
   "file_extension": ".py",
   "mimetype": "text/x-python",
   "name": "python",
   "nbconvert_exporter": "python",
   "pygments_lexer": "ipython3",
   "version": "3.9.16 (main, Jan 11 2023, 16:05:54) \n[GCC 11.2.0]"
  },
  "orig_nbformat": 4,
  "vscode": {
   "interpreter": {
    "hash": "a0c94fc6a065e1544b277cf790c4095db72a11be29cfda401c5045b27b0370ef"
   }
  }
 },
 "nbformat": 4,
 "nbformat_minor": 2
}
