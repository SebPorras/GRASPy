{
 "cells": [
  {
   "cell_type": "code",
   "execution_count": 1,
   "metadata": {},
   "outputs": [],
   "source": [
    "import GRASPy as gp "
   ]
  },
  {
   "attachments": {},
   "cell_type": "markdown",
   "metadata": {},
   "source": [
    "Documentation can be found here - https://sebporras.github.io/GRASPy/\n",
    "\n"
   ]
  },
  {
   "attachments": {},
   "cell_type": "markdown",
   "metadata": {},
   "source": [
    "# Performing joint reconstructions.\n",
    "\n",
    "Step 1) Submit the job to the server. You should specify either Protein, DNA or RNA but it will try guess the sequnce type if you forget. "
   ]
  },
  {
   "cell_type": "code",
   "execution_count": null,
   "metadata": {},
   "outputs": [],
   "source": [
    "request = gp.JointReconstruction(aln=\"./example_data/joint_recon/GRASPTutorial_Final.aln\",\n",
    "                                nwk=\"./example_data/joint_recon/GRASPTutorial_Final.nwk\", \n",
    "                                alphabet=\"Protein\")\n",
    "\n",
    "job_id = request[\"Job\"]"
   ]
  },
  {
   "attachments": {},
   "cell_type": "markdown",
   "metadata": {},
   "source": [
    "Step 2) Find out where your job is in the queue or the status"
   ]
  },
  {
   "cell_type": "code",
   "execution_count": null,
   "metadata": {},
   "outputs": [],
   "source": [
    "#queue = g_requests.PlaceInQueue(job_id)\n",
    "status = gp.JobStatus(job_id)"
   ]
  },
  {
   "attachments": {},
   "cell_type": "markdown",
   "metadata": {},
   "source": [
    "Step 3) Retrieve your job which will have the POG graphs "
   ]
  },
  {
   "cell_type": "code",
   "execution_count": null,
   "metadata": {},
   "outputs": [],
   "source": [
    "graphs = gp.JobOutput(job_id)"
   ]
  },
  {
   "attachments": {},
   "cell_type": "markdown",
   "metadata": {},
   "source": [
    "Step 4 - Optional) Request POGs for extant sequences "
   ]
  },
  {
   "cell_type": "code",
   "execution_count": null,
   "metadata": {},
   "outputs": [],
   "source": [
    "extant_tree = gp.ExtantPOGTree(aln=\"./example_data/big_test_data/GRASPTutorial_Final.aln\",\n",
    "nwk=\"./test_data/big_test_data/GRASPTutorial_Final.nwk\")\n"
   ]
  },
  {
   "cell_type": "code",
   "execution_count": null,
   "metadata": {},
   "outputs": [],
   "source": [
    "extant_tree"
   ]
  },
  {
   "attachments": {},
   "cell_type": "markdown",
   "metadata": {},
   "source": [
    "Step 5 - Option 1) Build a POG tree from extant and ancesor POGs using both of the server outputs \n",
    "\n",
    "- The advantage of doing it this way is that the POGTree object will contain sequence information on the BranchPoints for ancestors AND extants "
   ]
  },
  {
   "cell_type": "code",
   "execution_count": null,
   "metadata": {},
   "outputs": [],
   "source": [
    "tree = gp.POGTreeFromJointReconstruction(extant_tree, graphs)\n",
    "\n",
    "tree.branchpoints[\"XP_012687241.1\"].seq"
   ]
  },
  {
   "attachments": {},
   "cell_type": "markdown",
   "metadata": {},
   "source": [
    "Step 5 - Option 2) Build a POGTree from the ancestor POG and from a nwk file string \n",
    "\n",
    "- ONLY ancestors will have sequence information based on the most likely symbol at each position in the sequence"
   ]
  },
  {
   "cell_type": "code",
   "execution_count": null,
   "metadata": {},
   "outputs": [],
   "source": [
    "tree = gp.POGTreeFromJointReconstruction(nwk=\"./example_data/joint_recon/GRASPTutorial_Final.nwk\", POG_graphs=graphs)"
   ]
  },
  {
   "cell_type": "code",
   "execution_count": null,
   "metadata": {},
   "outputs": [],
   "source": [
    "tree.writeToNwk(file_name=\"test_nwk\")"
   ]
  },
  {
   "attachments": {},
   "cell_type": "markdown",
   "metadata": {},
   "source": [
    "# Learning distributions from data \n",
    "\n",
    "The following instructions demonstrate how to learn a probability distribution from data. I need to add option to change some of the parameters as currently just runs on default settings. \n"
   ]
  },
  {
   "attachments": {},
   "cell_type": "markdown",
   "metadata": {},
   "source": [
    "Step 1) Send request to the server"
   ]
  },
  {
   "cell_type": "code",
   "execution_count": null,
   "metadata": {},
   "outputs": [],
   "source": [
    "import GRASPy as gp \n",
    "\n",
    "request_2 = gp.LearnLatentDistributions(nwk=\"./example_data/EMTrain/3_2_1_1_filt.nwk\", \n",
    "                                        states=[\"A\", \"B\"],                                        \n",
    "                                        csv_data=\"./example_data/EMTrain/3_2_1_1_data.csv\")\n",
    "\n",
    "second_id = request_2[\"Job\"]"
   ]
  },
  {
   "attachments": {},
   "cell_type": "markdown",
   "metadata": {},
   "source": [
    "Step 2) Check the status of your job "
   ]
  },
  {
   "cell_type": "code",
   "execution_count": null,
   "metadata": {},
   "outputs": [],
   "source": [
    "place = gp.PlaceInQueue(second_id)"
   ]
  },
  {
   "attachments": {},
   "cell_type": "markdown",
   "metadata": {},
   "source": [
    "Step 3) Retrieve your job and save the output"
   ]
  },
  {
   "cell_type": "code",
   "execution_count": null,
   "metadata": {},
   "outputs": [],
   "source": [
    "out = gp.JobOutput(second_id)\n",
    "\n",
    "out"
   ]
  },
  {
   "attachments": {},
   "cell_type": "markdown",
   "metadata": {},
   "source": [
    "Step 4) The learnt distribution can then be marginalised on an ancestor node"
   ]
  },
  {
   "cell_type": "code",
   "execution_count": null,
   "metadata": {},
   "outputs": [],
   "source": [
    "j_distrib = out[\"Result\"][\"Distrib\"]\n",
    "\n",
    "infer = gp.MarginaliseDistOnAncestor(nwk=\"./example_data/EMTrain/3_2_1_1_filt.nwk\", \n",
    "                        states=[\"A\", \"B\"], \n",
    "                        csv_data=\"./example_data/EMTrain/3_2_1_1_data.csv\",\n",
    "                        distrib=j_distrib,\n",
    "                        ancestor=0)\n",
    "\n",
    "job_three_id = infer[\"Job\"]"
   ]
  },
  {
   "cell_type": "code",
   "execution_count": null,
   "metadata": {},
   "outputs": [],
   "source": [
    "infered_distribution = gp.JobOutput(job_three_id)\n",
    "\n",
    "infered_distribution"
   ]
  }
 ],
 "metadata": {
  "kernelspec": {
   "display_name": "GRASPy",
   "language": "python",
   "name": "python3"
  },
  "language_info": {
   "codemirror_mode": {
    "name": "ipython",
    "version": 3
   },
   "file_extension": ".py",
   "mimetype": "text/x-python",
   "name": "python",
   "nbconvert_exporter": "python",
   "pygments_lexer": "ipython3",
   "version": "3.9.16 (main, Jan 11 2023, 16:05:54) \n[GCC 11.2.0]"
  },
  "orig_nbformat": 4,
  "vscode": {
   "interpreter": {
    "hash": "a0c94fc6a065e1544b277cf790c4095db72a11be29cfda401c5045b27b0370ef"
   }
  }
 },
 "nbformat": 4,
 "nbformat_minor": 2
}
