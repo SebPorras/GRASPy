{
 "cells": [
  {
   "cell_type": "code",
   "execution_count": 47,
   "metadata": {},
   "outputs": [
    {
     "data": {
      "text/plain": [
       "[1062]"
      ]
     },
     "execution_count": 47,
     "metadata": {},
     "output_type": "execute_result"
    }
   ],
   "source": [
    "import GRASPy as gp \n"
   ]
  },
  {
   "attachments": {},
   "cell_type": "markdown",
   "metadata": {},
   "source": [
    "Documentation can be found here - https://sebporras.github.io/GRASPy/\n",
    "\n"
   ]
  },
  {
   "attachments": {},
   "cell_type": "markdown",
   "metadata": {},
   "source": [
    "# Performing joint reconstructions.\n",
    "\n",
    "Step 1) Submit the job to the server. You should specify either Protein, DNA or RNA but it will try guess the sequnce type if you forget. "
   ]
  },
  {
   "cell_type": "code",
   "execution_count": 40,
   "metadata": {},
   "outputs": [
    {
     "name": "stdout",
     "output_type": "stream",
     "text": [
      "Connecting to server...\n",
      "\n",
      "Socket connected to 10.139.1.21 on IP 4072\n",
      "\n",
      "{'Comment': 'Denied, since max number of clients (20) reached on server', 'Message': 'Connection denied', 'Error': 5}\n"
     ]
    },
    {
     "ename": "KeyError",
     "evalue": "'Job'",
     "output_type": "error",
     "traceback": [
      "\u001b[0;31m---------------------------------------------------------------------------\u001b[0m",
      "\u001b[0;31mKeyError\u001b[0m                                  Traceback (most recent call last)",
      "Cell \u001b[0;32mIn[40], line 5\u001b[0m\n\u001b[1;32m      1\u001b[0m request \u001b[39m=\u001b[39m gp\u001b[39m.\u001b[39mJointReconstruction(aln\u001b[39m=\u001b[39m\u001b[39m\"\u001b[39m\u001b[39m./test_data/joint_recon/GRASPTutorial_Final.aln\u001b[39m\u001b[39m\"\u001b[39m,\n\u001b[1;32m      2\u001b[0m                                 nwk\u001b[39m=\u001b[39m\u001b[39m\"\u001b[39m\u001b[39m./test_data/joint_recon/GRASPTutorial_Final.nwk\u001b[39m\u001b[39m\"\u001b[39m, \n\u001b[1;32m      3\u001b[0m                                 alphabet\u001b[39m=\u001b[39m\u001b[39m\"\u001b[39m\u001b[39mProtein\u001b[39m\u001b[39m\"\u001b[39m)\n\u001b[0;32m----> 5\u001b[0m job_id \u001b[39m=\u001b[39m request[\u001b[39m\"\u001b[39;49m\u001b[39mJob\u001b[39;49m\u001b[39m\"\u001b[39;49m]\n",
      "\u001b[0;31mKeyError\u001b[0m: 'Job'"
     ]
    }
   ],
   "source": [
    "request = gp.JointReconstruction(aln=\"./example_data/joint_recon/GRASPTutorial_Final.aln\",\n",
    "                                nwk=\"./example_data/joint_recon/GRASPTutorial_Final.nwk\", \n",
    "                                alphabet=\"Protein\")\n",
    "\n",
    "job_id = request[\"Job\"]"
   ]
  },
  {
   "attachments": {},
   "cell_type": "markdown",
   "metadata": {},
   "source": [
    "Step 2) Find out where your job is in the queue or the status"
   ]
  },
  {
   "cell_type": "code",
   "execution_count": 4,
   "metadata": {},
   "outputs": [
    {
     "name": "stdout",
     "output_type": "stream",
     "text": [
      "Socket created...\n",
      "\n",
      "Connecting to server...\n",
      "\n",
      "Socket connected to 10.139.1.21 on IP 4072\n",
      "\n",
      "Closing socket...\n",
      "\n",
      "{'Status': 'COMPLETED', 'Job': 49}\n"
     ]
    }
   ],
   "source": [
    "#queue = g_requests.PlaceInQueue(job_id)\n",
    "status = gp.JobStatus(job_id)"
   ]
  },
  {
   "attachments": {},
   "cell_type": "markdown",
   "metadata": {},
   "source": [
    "Step 3) Retrieve your job which will have the POG graphs "
   ]
  },
  {
   "cell_type": "code",
   "execution_count": 5,
   "metadata": {},
   "outputs": [
    {
     "name": "stdout",
     "output_type": "stream",
     "text": [
      "Socket created...\n",
      "\n",
      "Connecting to server...\n",
      "\n",
      "Socket connected to 10.139.1.21 on IP 4072\n",
      "\n",
      "Closing socket...\n",
      "\n"
     ]
    }
   ],
   "source": [
    "graphs = gp.JobOutput(job_id)"
   ]
  },
  {
   "attachments": {},
   "cell_type": "markdown",
   "metadata": {},
   "source": [
    "Step 4 - Optional) Request POGs for extant sequences "
   ]
  },
  {
   "cell_type": "code",
   "execution_count": 5,
   "metadata": {},
   "outputs": [
    {
     "name": "stdout",
     "output_type": "stream",
     "text": [
      "Socket created...\n",
      "\n",
      "Connecting to server...\n",
      "\n",
      "Socket connected to 10.139.1.21 on IP 4072\n",
      "\n",
      "Closing socket...\n",
      "\n"
     ]
    }
   ],
   "source": [
    "extant_tree = gp.ExtantPOGTree(aln=\"./example_data/big_test_data/GRASPTutorial_Final.aln\",\n",
    "nwk=\"./test_data/big_test_data/GRASPTutorial_Final.nwk\")\n"
   ]
  },
  {
   "cell_type": "code",
   "execution_count": null,
   "metadata": {},
   "outputs": [],
   "source": [
    "extant_tree"
   ]
  },
  {
   "attachments": {},
   "cell_type": "markdown",
   "metadata": {},
   "source": [
    "Step 5 - Option 1) Build a POG tree from extant and ancesor POGs using both of the server outputs \n",
    "\n",
    "- The advantage of doing it this way is that the POGTree object will contain sequence information on the BranchPoints for ancestors AND extants "
   ]
  },
  {
   "cell_type": "code",
   "execution_count": 7,
   "metadata": {},
   "outputs": [
    {
     "data": {
      "text/plain": [
       "'PPGPTPWPLVGNFGGFLVPSFISRRFGRNREEYAQRTSNPVSPQVGLMELSKIYGNIYSIFVGSQLMVLLTGYEVVRDALSNHAEVFSDRPDVPIITIMTKRKGIVFAPYGPVWRKQRKFCHSTLRSFGLGKLSLEPCILEGVSIVKSELLSLSNESGEMGVDPTPLISNAVSNVISSISLGQRFHHQDQEFRTLLDLMARGLEISVNSHAVLINIFPWLYHMPCGVFKELRQVEGDITAFLKRIIARHRATLDPENPRDLIDMYLVEMLAQQTAAEPTENTFSEDYLFYIIGDLFIAGTDTTTNSMLWILLYMCLYPDIQEKVQEEIDAVIGRDKVPSLTDKGCLSFTEATIMEVQRMTVVVPLAIPHMASKTTVFRGYTIPKGTVIIPNLWSVHRDPSVWDSPDDFNPSRFLDEQGKLLRKDYFIPFGIGRRVCMGEQLAKMELFLMFTNLMQAFTFRFPKGKPPPPMHGRFGLTLAPCPYTVCVTPR'"
      ]
     },
     "execution_count": 7,
     "metadata": {},
     "output_type": "execute_result"
    }
   ],
   "source": [
    "tree = gp.POGTreeFromJointReconstruction(extant_tree, graphs)\n",
    "\n",
    "tree.branchpoints[\"XP_012687241.1\"].seq"
   ]
  },
  {
   "attachments": {},
   "cell_type": "markdown",
   "metadata": {},
   "source": [
    "Step 5 - Option 2) Build a POGTree from the ancestor POG and from a nwk file string \n",
    "\n",
    "- ONLY ancestors will have sequence information based on the most likely symbol at each position in the sequence"
   ]
  },
  {
   "cell_type": "code",
   "execution_count": null,
   "metadata": {},
   "outputs": [],
   "source": [
    "tree = gp.POGTreeFromJointReconstruction(nwk=\"./example_data/joint_recon/GRASPTutorial_Final.nwk\", POG_graphs=graphs)"
   ]
  },
  {
   "cell_type": "code",
   "execution_count": 5,
   "metadata": {},
   "outputs": [
    {
     "data": {
      "text/plain": [
       "'(((XP_006629927.2:0.14777721590070114,(XP_018611667.1:0.31741219299255685,((XP_007229530.1:0.20410994427385432,(XP_012687241.1:0.12553661262814741,XP_018919739.1:0.17752015624894124)N6:0.02108546966591862)N5:0.024498458258308764,(XP_019717376.1:0.3374131974537633,(XP_010886716.1:0.17046994270732152,(XP_014050304.1:0.012222797694125376,XP_021429054.1:0.016443894223391986)N9:0.051214958442506786)N8:0.06898824252200719)N7:0.07186524457989396)N4:0.10310490468352707)N3:0.06898460428141462)N2:0.11632291055872579,(ARO89866.1:0.25205280271933694,(XP_014733783.1:0.29681349725859363,(XP_005082857.1:0.1589210754372825,((XP_021540185.1:0.03325108724429082,XP_019684690.2:0.018088332404641694)N14:0.04823406553019316,(XP_012621711.1:0.05681896074666115,((NP_898898.1:1.0000005001842283e-06,XP_526649.2:0.00220424589188406)N17:0.005288422325157249,(XP_012291909.1:0.0046099502113805535,XP_003929520.1:0.004241068270090409)N18:0.010508512073819531)N16:0.040465306764365216)N15:0.031854968122094096)N13:0.030935504331779384)N12:0.18757970335837193)N11:0.08013548717836616)N10:0.11264351323303923)N1:0.7819801484223995,((XP_004050792.2:0.046745089073882085,XP_005216113.1:0.031339011068860056)N20:0.22157549651088937,(XP_018963554.1:0.019918423012584174,XP_016357833.1:0.026700451827796012)N21:0.2239611736832119)N19:0.7819801484223997)N0:0.0;'"
      ]
     },
     "execution_count": 5,
     "metadata": {},
     "output_type": "execute_result"
    }
   ],
   "source": [
    "tree.writeToNwk(file_name=\"test_nwk\")"
   ]
  },
  {
   "attachments": {},
   "cell_type": "markdown",
   "metadata": {},
   "source": [
    "# Learning distributions from data \n",
    "\n",
    "The following instructions demonstrate how to learn a probability distribution from data. I need to add option to change some of the parameters as currently just runs on default settings. \n"
   ]
  },
  {
   "attachments": {},
   "cell_type": "markdown",
   "metadata": {},
   "source": [
    "Step 1) Send request to the server"
   ]
  },
  {
   "cell_type": "code",
   "execution_count": null,
   "metadata": {},
   "outputs": [],
   "source": [
    "import GRASPy as gp \n",
    "\n",
    "request_2 = gp.LearnLatentDistributions(nwk=\"./example_data/EMTrain/3_2_1_1_filt.nwk\", \n",
    "                                        states=[\"A\", \"B\"],                                        \n",
    "                                        csv_data=\"./example_data/EMTrain/3_2_1_1_data.csv\")\n",
    "\n",
    "second_id = request_2[\"Job\"]"
   ]
  },
  {
   "attachments": {},
   "cell_type": "markdown",
   "metadata": {},
   "source": [
    "Step 2) Check the status of your job "
   ]
  },
  {
   "cell_type": "code",
   "execution_count": 2,
   "metadata": {},
   "outputs": [
    {
     "name": "stdout",
     "output_type": "stream",
     "text": [
      "Socket created...\n",
      "\n",
      "Connecting to server...\n",
      "\n",
      "Socket connected to 10.139.1.21 on IP 4072\n",
      "\n",
      "Closing socket...\n",
      "\n",
      "{'Job': 81, 'Place': 0}\n"
     ]
    }
   ],
   "source": [
    "place = gp.PlaceInQueue(second_id)"
   ]
  },
  {
   "attachments": {},
   "cell_type": "markdown",
   "metadata": {},
   "source": [
    "Step 3) Retrieve your job and save the output"
   ]
  },
  {
   "cell_type": "code",
   "execution_count": 7,
   "metadata": {},
   "outputs": [
    {
     "name": "stdout",
     "output_type": "stream",
     "text": [
      "Socket created...\n",
      "\n",
      "Connecting to server...\n",
      "\n",
      "Socket connected to 10.139.1.21 on IP 4072\n",
      "\n",
      "Closing socket...\n",
      "\n"
     ]
    },
    {
     "data": {
      "text/plain": [
       "{'Job': 84,\n",
       " 'Result': {'Distrib': {'Condition': [['A'], ['B']],\n",
       "   'Pr': [[6.578658560392297, 0.5003342721876145],\n",
       "    [8.632049675842904, 0.5003342721876145]],\n",
       "   'Index': [0, 1],\n",
       "   'Domain': 'dat.Continuous@14e6de80'}}}"
      ]
     },
     "execution_count": 7,
     "metadata": {},
     "output_type": "execute_result"
    }
   ],
   "source": [
    "out = gp.JobOutput(second_id)\n",
    "\n",
    "out"
   ]
  },
  {
   "attachments": {},
   "cell_type": "markdown",
   "metadata": {},
   "source": [
    "Step 4) The learnt distribution can then be marginalised on an ancestor node"
   ]
  },
  {
   "cell_type": "code",
   "execution_count": 8,
   "metadata": {},
   "outputs": [
    {
     "name": "stdout",
     "output_type": "stream",
     "text": [
      "Socket created...\n",
      "\n",
      "Connecting to server...\n",
      "\n",
      "Socket connected to 10.139.1.21 on IP 4072\n",
      "\n",
      "Closing socket...\n",
      "\n",
      "{'Message': 'Queued', 'Job': 85}\n"
     ]
    }
   ],
   "source": [
    "j_distrib = out[\"Result\"][\"Distrib\"]\n",
    "\n",
    "infer = gp.MarginaliseDistOnAncestor(nwk=\"./example_data/EMTrain/3_2_1_1_filt.nwk\", \n",
    "                        states=[\"A\", \"B\"], \n",
    "                        csv_data=\"./example_data/EMTrain/3_2_1_1_data.csv\",\n",
    "                        distrib=j_distrib,\n",
    "                        ancestor=0)\n",
    "\n",
    "job_three_id = infer[\"Job\"]"
   ]
  },
  {
   "cell_type": "code",
   "execution_count": 9,
   "metadata": {},
   "outputs": [
    {
     "name": "stdout",
     "output_type": "stream",
     "text": [
      "Socket created...\n",
      "\n",
      "Connecting to server...\n",
      "\n",
      "Socket connected to 10.139.1.21 on IP 4072\n",
      "\n",
      "Closing socket...\n",
      "\n"
     ]
    },
    {
     "data": {
      "text/plain": [
       "{'Job': 85,\n",
       " 'Result': {'N0': [{'Pr': [0.787080600445937, 0.21291939955406308],\n",
       "    'Domain': {'Size': 2, 'Values': ['A', 'B'], 'Datatype': 'String'}}]}}"
      ]
     },
     "execution_count": 9,
     "metadata": {},
     "output_type": "execute_result"
    }
   ],
   "source": [
    "infered_distribution = gp.JobOutput(job_three_id)\n",
    "\n",
    "infered_distribution"
   ]
  }
 ],
 "metadata": {
  "kernelspec": {
   "display_name": "GRASPy",
   "language": "python",
   "name": "python3"
  },
  "language_info": {
   "codemirror_mode": {
    "name": "ipython",
    "version": 3
   },
   "file_extension": ".py",
   "mimetype": "text/x-python",
   "name": "python",
   "nbconvert_exporter": "python",
   "pygments_lexer": "ipython3",
   "version": "3.9.16"
  },
  "orig_nbformat": 4,
  "vscode": {
   "interpreter": {
    "hash": "a0c94fc6a065e1544b277cf790c4095db72a11be29cfda401c5045b27b0370ef"
   }
  }
 },
 "nbformat": 4,
 "nbformat_minor": 2
}
